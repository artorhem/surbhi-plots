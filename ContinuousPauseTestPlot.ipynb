{
 "cells": [
  {
   "cell_type": "code",
   "execution_count": 1,
   "metadata": {},
   "outputs": [],
   "source": [
    "import matplotlib.pyplot as plt\n",
    "import numpy as np\n",
    "import pandas as pd\n",
    "import math\n",
    "import seaborn as sns\n",
    "from datetime import timedelta\n",
    "import matplotlib.ticker as tkr\n",
    "from sklearn.cluster import KMeans\n",
    "\n",
    "def custom_grouping(index):\n",
    "    return index // 1000\n",
    "\n",
    "names_latency=['submission_time', 'duration', 'op2', 'write_size', 'op3']\n",
    "columns = ['submission_time', 'duration', 'write_size']\n",
    "\n",
    "# Step 1: Read the CSV file into a Pandas DataFrame\n",
    "#df = pd.read_csv(f'/home/surbhi/measurements/worst_case/STL/1M/90-10-LBA/90Util/run1/lat_log_avg_lat.1.log', names=names_latency, usecols=columns)"
   ]
  },
  {
   "cell_type": "code",
   "execution_count": 2,
   "metadata": {},
   "outputs": [],
   "source": [
    "df1 = pd.read_csv('/home/surbhi/measurements/STL/cache/uniform-random/round1/run1/lat_log_avg_lat.1.log', sep=',', names=names_latency, usecols=columns)\n",
    "# Convert nanoseconds to microseconds for the 'time' column\n",
    "df1['duration'] = df1['duration'] / 1000000  # Convert nanoseconds to milliseconds\n",
    "# Calculate cumulative GBs of data written\n",
    "df1['cumulative_gb'] = np.floor(df1['write_size'].cumsum() / (1024**3))\n",
    "df1['submission_time'] = df1['submission_time'] - df1.iloc[0].submission_time\n",
    "df1['completion_time'] = np.floor(df1['submission_time'] + df1['duration'])"
   ]
  },
  {
   "cell_type": "code",
   "execution_count": 3,
   "metadata": {},
   "outputs": [
    {
     "name": "stderr",
     "output_type": "stream",
     "text": [
      "/tmp/ipykernel_293261/507860518.py:21: FutureWarning: Setting an item of incompatible dtype is deprecated and will raise in a future error of pandas. Value '[464492.28272218 464492.28272218]' has dtype incompatible with int64, please explicitly cast to a compatible dtype first.\n",
      "  data_written_ms1.loc[start:end-1] += write_rate_per_ms\n"
     ]
    },
    {
     "name": "stdout",
     "output_type": "stream",
     "text": [
      "35839\n"
     ]
    }
   ],
   "source": [
    "# Step 3: Determine the start and end time of the entire test\n",
    "start_time = int(df1['submission_time'].min())\n",
    "end_time = int(math.ceil(df1['completion_time'].max()))\n",
    "\n",
    "\n",
    "# Step 4: Create new DataFrames to represent each  millisecond between the start and end time of the entire test\n",
    "data_written_ms1 = pd.DataFrame(index=range(start_time, end_time + 1, 1), columns=['data_written_bytes'])\n",
    "data_written_ms1['data_written_bytes'] = 0\n",
    "\n",
    "# Step 5: Iterate through each write request, calculate the data size for each time interval, and update the corresponding entries in the DataFrames\n",
    "for index, row in df1.iterrows():\n",
    "    duration = row['duration']\n",
    "    start = int(row['submission_time'])\n",
    "    end = start+math.floor(duration)\n",
    "    \n",
    "    payload = 1048576\n",
    "    write_rate_per_ms = payload / max(duration, 1.)\n",
    "    assert(write_rate_per_ms <= payload)\n",
    "    residue = payload - write_rate_per_ms * math.floor(duration)\n",
    "    assert (payload >= (write_rate_per_ms * math.floor(duration)))\n",
    "    data_written_ms1.loc[start:end-1] += write_rate_per_ms\n",
    "    # residue could be zero when last == end\n",
    "    data_written_ms1.loc[end] += residue\n",
    "\n",
    "print(index)\n",
    "data_written_ms1.reset_index(drop=True, inplace=True)\n",
    "last_non_zero_index = data_written_ms1[data_written_ms1.ne(0).any(axis=1)].index[-1]\n",
    "data_written_ms = data_written_ms1.loc[:last_non_zero_index]"
   ]
  },
  {
   "cell_type": "code",
   "execution_count": 4,
   "metadata": {},
   "outputs": [
    {
     "name": "stdout",
     "output_type": "stream",
     "text": [
      "             index  data_written_bytes  cumulative_gb      latency\n",
      "count  1435.000000         1435.000000    1435.000000  1435.000000\n",
      "mean    717.000000           24.975610      28.664071          inf\n",
      "std     414.393131           43.259971       7.506709          NaN\n",
      "min       0.000000            0.000000       0.098415     0.006916\n",
      "25%     358.500000            6.089734      28.786984     0.160361\n",
      "50%     717.000000            6.143461      30.837194     0.162775\n",
      "75%    1075.500000            6.235916      32.957186     0.164211\n",
      "max    1434.000000          144.591921      35.000000          inf\n",
      "<class 'pandas.core.frame.DataFrame'>\n",
      "RangeIndex: 1435 entries, 0 to 1434\n",
      "Data columns (total 4 columns):\n",
      " #   Column              Non-Null Count  Dtype  \n",
      "---  ------              --------------  -----  \n",
      " 0   index               1435 non-null   int64  \n",
      " 1   data_written_bytes  1435 non-null   float64\n",
      " 2   cumulative_gb       1435 non-null   float64\n",
      " 3   latency             1435 non-null   float64\n",
      "dtypes: float64(3), int64(1)\n",
      "memory usage: 45.0 KB\n",
      "None\n"
     ]
    },
    {
     "name": "stderr",
     "output_type": "stream",
     "text": [
      "/home/surbhi/.local/lib/python3.10/site-packages/pandas/core/nanops.py:1010: RuntimeWarning: invalid value encountered in subtract\n",
      "  sqr = _ensure_numeric((avg - values) ** 2)\n"
     ]
    }
   ],
   "source": [
    "chunk_size = 10000\n",
    "results = []\n",
    "for i in range(0, len(data_written_ms1), chunk_size):\n",
    "    chunk = data_written_ms1.iloc[i:i+chunk_size]\n",
    "    result = chunk.groupby(custom_grouping).sum()\n",
    "    results.append(result)\n",
    "\n",
    "df_grouped1 = pd.concat(results)\n",
    "\n",
    "# Reset the index to make it a regular column\n",
    "df_grouped1.reset_index(inplace=True)\n",
    "df_grouped1['cumulative_gb'] = df_grouped1['data_written_bytes'].cumsum() / (1024 ** 3)\n",
    "df_grouped1['data_written_bytes'] = df_grouped1['data_written_bytes'] / (1024 ** 2) \n",
    "df_grouped1.reset_index(drop=True, inplace=True)\n",
    "last_non_zero_index = df_grouped1[df_grouped1.ne(0).any(axis=1)].index[-1]\n",
    "df_grouped1 = df_grouped1.loc[:last_non_zero_index]\n",
    "df_grouped1['latency'] =1 / df_grouped1['data_written_bytes']\n",
    "#\n",
    "#data_array = df_grouped['data_written_bytes'].values.reshape(-1, 1)\n",
    "print(df_grouped1.describe())\n",
    "print(df_grouped1.info())\n"
   ]
  },
  {
   "cell_type": "code",
   "execution_count": 5,
   "metadata": {},
   "outputs": [],
   "source": [
    "df2= pd.read_csv('/home/surbhi/measurements/STL/cache/uniform-random/round1/run2/lat_log_avg_lat.1.log', sep=',' , names=names_latency, usecols=columns)\n",
    "# Convert nanoseconds to microseconds for the 'time' column\n",
    "df2['duration'] = df2['duration'] / 1000000  # Convert nanoseconds to milliseconds\n",
    "# Calculate cumulative GBs of data written\n",
    "df2['cumulative_gb'] = np.floor(df2['write_size'].cumsum() / (1024**3))\n",
    "df2['submission_time'] = df2['submission_time'] - df2.iloc[0].submission_time #+ df_grouped1.index.max() + 60 * 60\n",
    "df2['completion_time'] = np.floor(df2['submission_time'] + df2['duration'])"
   ]
  },
  {
   "cell_type": "code",
   "execution_count": 6,
   "metadata": {},
   "outputs": [
    {
     "name": "stderr",
     "output_type": "stream",
     "text": [
      "/tmp/ipykernel_293261/840144846.py:20: FutureWarning: Setting an item of incompatible dtype is deprecated and will raise in a future error of pandas. Value '[210.8010519 210.8010519 210.8010519 ... 210.8010519 210.8010519\n",
      " 210.8010519]' has dtype incompatible with int64, please explicitly cast to a compatible dtype first.\n",
      "  data_written_ms2.loc[start:end-1] += write_rate_per_ms\n"
     ]
    },
    {
     "name": "stdout",
     "output_type": "stream",
     "text": [
      "35839\n"
     ]
    }
   ],
   "source": [
    "# Step 3: Determine the start and end time of the entire test\n",
    "start_time = int(df2['submission_time'].min())\n",
    "end_time = int(df2['completion_time'].max())\n",
    "\n",
    "# Step 4: Create new DataFrames to represent each  millisecond between the start and end time of the entire test\n",
    "data_written_ms2 = pd.DataFrame(index=range(start_time, end_time + 1, 1), columns=['data_written_bytes'])\n",
    "data_written_ms2['data_written_bytes'] = 0\n",
    "\n",
    "# Step 5: Iterate through each write request, calculate the data size for each time interval, and update the corresponding entries in the DataFrames\n",
    "for index, row in df2.iterrows():\n",
    "    duration = row['duration']\n",
    "    start = int(row['submission_time'])\n",
    "    end = start+math.floor(duration)\n",
    "    \n",
    "    payload = 1048576\n",
    "    write_rate_per_ms = payload / max(duration, 1.)\n",
    "    assert(write_rate_per_ms <= payload)\n",
    "    residue = payload - write_rate_per_ms * math.floor(duration)\n",
    "    assert (payload >= (write_rate_per_ms * math.floor(duration)))\n",
    "    data_written_ms2.loc[start:end-1] += write_rate_per_ms\n",
    "    # residue could be zero when last == end\n",
    "    data_written_ms2.loc[end] += residue\n",
    "\n",
    "print(index)\n",
    "data_written_ms2.reset_index(drop=True, inplace=True)\n",
    "last_non_zero_index = data_written_ms2[data_written_ms2.ne(0).any(axis=1)].index[-1]\n",
    "data_written_ms2 = data_written_ms2.loc[:last_non_zero_index]"
   ]
  },
  {
   "cell_type": "code",
   "execution_count": 7,
   "metadata": {},
   "outputs": [
    {
     "name": "stdout",
     "output_type": "stream",
     "text": [
      "             index  data_written_bytes  cumulative_gb      latency\n",
      "count  5008.000000         5008.000000    5008.000000  5008.000000\n",
      "mean   2503.500000            7.156550      17.441471          inf\n",
      "std    1445.829404            3.009192      10.207250          NaN\n",
      "min       0.000000            0.000000       0.005568     0.024067\n",
      "25%    1251.750000            6.003239       8.588643     0.127164\n",
      "50%    2503.500000            6.353993      17.453281     0.157381\n",
      "75%    3755.250000            7.863865      26.308031     0.166577\n",
      "max    5007.000000           41.551204      35.000000          inf\n",
      "<class 'pandas.core.frame.DataFrame'>\n",
      "RangeIndex: 5008 entries, 0 to 5007\n",
      "Data columns (total 4 columns):\n",
      " #   Column              Non-Null Count  Dtype  \n",
      "---  ------              --------------  -----  \n",
      " 0   index               5008 non-null   int64  \n",
      " 1   data_written_bytes  5008 non-null   float64\n",
      " 2   cumulative_gb       5008 non-null   float64\n",
      " 3   latency             5008 non-null   float64\n",
      "dtypes: float64(3), int64(1)\n",
      "memory usage: 156.6 KB\n",
      "None\n"
     ]
    },
    {
     "name": "stderr",
     "output_type": "stream",
     "text": [
      "/home/surbhi/.local/lib/python3.10/site-packages/pandas/core/nanops.py:1010: RuntimeWarning: invalid value encountered in subtract\n",
      "  sqr = _ensure_numeric((avg - values) ** 2)\n"
     ]
    }
   ],
   "source": [
    "chunk_size = 100000\n",
    "results = []\n",
    "\n",
    "for i in range(0, len(data_written_ms2), chunk_size):\n",
    "    chunk = data_written_ms2.iloc[i:i+chunk_size]\n",
    "    result = chunk.groupby(custom_grouping).sum()\n",
    "    results.append(result)\n",
    "\n",
    "df_grouped2 = pd.concat(results)\n",
    "\n",
    "# Reset the index to make it a regular column\n",
    "df_grouped2.reset_index(inplace=True)\n",
    "df_grouped2['cumulative_gb'] = df_grouped2['data_written_bytes'].cumsum() / (1024 ** 3)\n",
    "df_grouped2['data_written_bytes'] = df_grouped2['data_written_bytes'] / (1024 ** 2) \n",
    "df_grouped2.reset_index(drop=True, inplace=True)\n",
    "last_non_zero_index = df_grouped2[df_grouped2.ne(0).any(axis=1)].index[-1]\n",
    "df_grouped2 = df_grouped2.loc[:last_non_zero_index]\n",
    "df_grouped2['latency'] =1 / df_grouped2['data_written_bytes']\n",
    "#\n",
    "#data_array = df_grouped['data_written_bytes'].values.reshape(-1, 1)\n",
    "print(df_grouped2.describe())\n",
    "print(df_grouped2.info())"
   ]
  },
  {
   "cell_type": "code",
   "execution_count": 8,
   "metadata": {},
   "outputs": [],
   "source": [
    "df3 = pd.read_csv('/home/surbhi/measurements/STL/cache/uniform-random/round1/run4/lat_log_avg_lat.1.log', sep=',', names=names_latency, usecols=columns)\n",
    "# Convert nanoseconds to microseconds for the 'time' column\n",
    "df3['duration'] = df3['duration'] / 1000000  # Convert nanoseconds to milliseconds\n",
    "# Calculate cumulative GBs of data written\n",
    "df3['cumulative_gb'] = np.floor(df3['write_size'].cumsum() / (1024**3))\n",
    "df3['submission_time'] = df3['submission_time'] - df3.iloc[0].submission_time\n",
    "df3['completion_time'] = np.floor(df3['submission_time'] + df3['duration'])"
   ]
  },
  {
   "cell_type": "code",
   "execution_count": 9,
   "metadata": {},
   "outputs": [
    {
     "name": "stderr",
     "output_type": "stream",
     "text": [
      "/tmp/ipykernel_293261/1813428563.py:20: FutureWarning: Setting an item of incompatible dtype is deprecated and will raise in a future error of pandas. Value '[229999.29809785 229999.29809785 229999.29809785 229999.29809785]' has dtype incompatible with int64, please explicitly cast to a compatible dtype first.\n",
      "  data_written_ms3.loc[start:end-1] += write_rate_per_ms\n"
     ]
    },
    {
     "name": "stdout",
     "output_type": "stream",
     "text": [
      "35839\n"
     ]
    }
   ],
   "source": [
    "# Step 3: Determine the start and end time of the entire test\n",
    "start_time = int(df3['submission_time'].min())\n",
    "end_time = int(df3['completion_time'].max())\n",
    "\n",
    "# Step 4: Create new DataFrames to represent each  millisecond between the start and end time of the entire test\n",
    "data_written_ms3 = pd.DataFrame(index=range(start_time, end_time + 1, 1), columns=['data_written_bytes'])\n",
    "data_written_ms3['data_written_bytes'] = 0\n",
    "\n",
    "# Step 5: Iterate through each write request, calculate the data size for each time interval, and update the corresponding entries in the DataFrames\n",
    "for index, row in df3.iterrows():\n",
    "    duration = row['duration']\n",
    "    start = int(row['submission_time'])\n",
    "    end = start+math.floor(duration)\n",
    "    \n",
    "    payload = 1048576\n",
    "    write_rate_per_ms = payload / max(duration, 1.)\n",
    "    assert(write_rate_per_ms <= payload)\n",
    "    residue = payload - write_rate_per_ms * math.floor(duration)\n",
    "    assert (payload >= (write_rate_per_ms * math.floor(duration)))\n",
    "    data_written_ms3.loc[start:end-1] += write_rate_per_ms\n",
    "    # residue could be zero when last == end\n",
    "    data_written_ms3.loc[end] += residue\n",
    "\n",
    "print(index)\n",
    "data_written_ms3.reset_index(drop=True, inplace=True)\n",
    "last_non_zero_index = data_written_ms3[data_written_ms3.ne(0).any(axis=1)].index[-1]\n",
    "data_written_ms3 = data_written_ms3.loc[:last_non_zero_index]"
   ]
  },
  {
   "cell_type": "code",
   "execution_count": 10,
   "metadata": {},
   "outputs": [
    {
     "name": "stdout",
     "output_type": "stream",
     "text": [
      "             index  data_written_bytes  cumulative_gb      latency\n",
      "count  4387.000000         4387.000000    4387.000000  4387.000000\n",
      "mean   2193.000000            8.169592      20.090838          inf\n",
      "std    1266.562145           12.994121       8.569940          NaN\n",
      "min       0.000000            0.000000       0.125245     0.007660\n",
      "25%    1096.500000            5.952145      12.566735     0.145874\n",
      "50%    2193.000000            6.154403      19.982528     0.162485\n",
      "75%    3289.500000            6.855220      27.520300     0.168007\n",
      "max    4386.000000          130.555727      35.000000          inf\n",
      "<class 'pandas.core.frame.DataFrame'>\n",
      "RangeIndex: 4387 entries, 0 to 4386\n",
      "Data columns (total 4 columns):\n",
      " #   Column              Non-Null Count  Dtype  \n",
      "---  ------              --------------  -----  \n",
      " 0   index               4387 non-null   int64  \n",
      " 1   data_written_bytes  4387 non-null   float64\n",
      " 2   cumulative_gb       4387 non-null   float64\n",
      " 3   latency             4387 non-null   float64\n",
      "dtypes: float64(3), int64(1)\n",
      "memory usage: 137.2 KB\n",
      "None\n"
     ]
    },
    {
     "name": "stderr",
     "output_type": "stream",
     "text": [
      "/home/surbhi/.local/lib/python3.10/site-packages/pandas/core/nanops.py:1010: RuntimeWarning: invalid value encountered in subtract\n",
      "  sqr = _ensure_numeric((avg - values) ** 2)\n"
     ]
    }
   ],
   "source": [
    "chunk_size = 100000\n",
    "results = []\n",
    "for i in range(0, len(data_written_ms3), chunk_size):\n",
    "    chunk = data_written_ms3.iloc[i:i+chunk_size]\n",
    "    result = chunk.groupby(custom_grouping).sum()\n",
    "    results.append(result)\n",
    "\n",
    "df_grouped3 = pd.concat(results)\n",
    "\n",
    "# Reset the index to make it a regular column\n",
    "df_grouped3.reset_index(inplace=True)\n",
    "df_grouped3['cumulative_gb'] = df_grouped3['data_written_bytes'].cumsum() / (1024 ** 3)\n",
    "df_grouped3['data_written_bytes'] = df_grouped3['data_written_bytes'] / (1024 ** 2) \n",
    "df_grouped3.reset_index(drop=True, inplace=True)\n",
    "last_non_zero_index = df_grouped3[df_grouped3.ne(0).any(axis=1)].index[-1]\n",
    "df_grouped3 = df_grouped3.loc[:last_non_zero_index]\n",
    "df_grouped3['latency'] =1 / df_grouped3['data_written_bytes']\n",
    "#\n",
    "#data_array = df_grouped['data_written_bytes'].values.reshape(-1, 1)\n",
    "print(df_grouped3.describe())\n",
    "print(df_grouped3.info())"
   ]
  },
  {
   "cell_type": "code",
   "execution_count": 11,
   "metadata": {},
   "outputs": [],
   "source": [
    "df5 = pd.read_csv('/home/surbhi/measurements/STL/cache/uniform-random/round1/run5/lat_log_avg_lat.1.log', sep=',', names=names_latency, usecols=columns)\n",
    "# Convert nanoseconds to microseconds for the 'time' column\n",
    "df5['duration'] = df5['duration'] / 1000000  # Convert nanoseconds to milliseconds\n",
    "# Calculate cumulative GBs of data written\n",
    "df5['cumulative_gb'] = np.floor(df5['write_size'].cumsum() / (1024**3))\n",
    "df5['submission_time'] = df5['submission_time'] - df5.iloc[0].submission_time\n",
    "df5['completion_time'] = np.floor(df5['submission_time'] + df5['duration'])"
   ]
  },
  {
   "cell_type": "code",
   "execution_count": 12,
   "metadata": {},
   "outputs": [
    {
     "name": "stderr",
     "output_type": "stream",
     "text": [
      "/tmp/ipykernel_293261/334530427.py:21: FutureWarning: Setting an item of incompatible dtype is deprecated and will raise in a future error of pandas. Value '[204366.04148379 204366.04148379 204366.04148379 204366.04148379\n",
      " 204366.04148379]' has dtype incompatible with int64, please explicitly cast to a compatible dtype first.\n",
      "  data_written_ms5.loc[start:end-1] += write_rate_per_ms\n"
     ]
    },
    {
     "name": "stdout",
     "output_type": "stream",
     "text": [
      "35839\n"
     ]
    }
   ],
   "source": [
    "# Step 3: Determine the start and end time of the entire test\n",
    "start_time = int(df5['submission_time'].min())\n",
    "end_time = int(df5['completion_time'].max())\n",
    "\n",
    "\n",
    "# Step 4: Create new DataFrames to represent each  millisecond between the start and end time of the entire test\n",
    "data_written_ms5 = pd.DataFrame(index=range(start_time, end_time + 1, 1), columns=['data_written_bytes'])\n",
    "data_written_ms5['data_written_bytes'] = 0\n",
    "\n",
    "# Step 5: Iterate through each write request, calculate the data size for each time interval, and update the corresponding entries in the DataFrames\n",
    "for index, row in df5.iterrows():\n",
    "    duration = row['duration']\n",
    "    start = int(row['submission_time'])\n",
    "    end = start+math.floor(duration)\n",
    "    \n",
    "    payload = 1048576\n",
    "    write_rate_per_ms = payload / max(duration, 1.)\n",
    "    assert(write_rate_per_ms <= payload)\n",
    "    residue = payload - write_rate_per_ms * math.floor(duration)\n",
    "    assert (payload >= (write_rate_per_ms * math.floor(duration)))\n",
    "    data_written_ms5.loc[start:end-1] += write_rate_per_ms\n",
    "    # residue could be zero when last == end\n",
    "    data_written_ms5.loc[end] += residue\n",
    "\n",
    "print(index)\n",
    "data_written_ms5.reset_index(drop=True, inplace=True)\n",
    "last_non_zero_index = data_written_ms5[data_written_ms5.ne(0).any(axis=1)].index[-1]\n",
    "data_written_ms5 = data_written_ms5.loc[:last_non_zero_index]"
   ]
  },
  {
   "cell_type": "code",
   "execution_count": 13,
   "metadata": {},
   "outputs": [
    {
     "name": "stdout",
     "output_type": "stream",
     "text": [
      "             index  data_written_bytes  cumulative_gb      latency\n",
      "count  1425.000000         1425.000000    1425.000000  1425.000000\n",
      "mean    712.000000           25.150877      28.638816          inf\n",
      "std     411.506379           43.655012       7.461650          NaN\n",
      "min       0.000000            0.000000       0.094506     0.007010\n",
      "25%     356.000000            6.219677      28.708539     0.157798\n",
      "50%     712.000000            6.272641      30.784787     0.159422\n",
      "75%    1068.000000            6.337226      32.881670     0.160780\n",
      "max    1424.000000          142.654458      35.000000          inf\n",
      "<class 'pandas.core.frame.DataFrame'>\n",
      "RangeIndex: 1425 entries, 0 to 1424\n",
      "Data columns (total 4 columns):\n",
      " #   Column              Non-Null Count  Dtype  \n",
      "---  ------              --------------  -----  \n",
      " 0   index               1425 non-null   int64  \n",
      " 1   data_written_bytes  1425 non-null   float64\n",
      " 2   cumulative_gb       1425 non-null   float64\n",
      " 3   latency             1425 non-null   float64\n",
      "dtypes: float64(3), int64(1)\n",
      "memory usage: 44.7 KB\n",
      "None\n"
     ]
    },
    {
     "name": "stderr",
     "output_type": "stream",
     "text": [
      "/home/surbhi/.local/lib/python3.10/site-packages/pandas/core/nanops.py:1010: RuntimeWarning: invalid value encountered in subtract\n",
      "  sqr = _ensure_numeric((avg - values) ** 2)\n"
     ]
    }
   ],
   "source": [
    "chunk_size = 100000\n",
    "results = []\n",
    "for i in range(0, len(data_written_ms5), chunk_size):\n",
    "    chunk = data_written_ms5.iloc[i:i+chunk_size]\n",
    "    result = chunk.groupby(custom_grouping).sum()\n",
    "    results.append(result)\n",
    "\n",
    "df_grouped5 = pd.concat(results)\n",
    "\n",
    "# Reset the index to make it a regular column\n",
    "df_grouped5.reset_index(inplace=True)\n",
    "df_grouped5['cumulative_gb'] = df_grouped5['data_written_bytes'].cumsum() / (1024 ** 3)\n",
    "df_grouped5['data_written_bytes'] = df_grouped5['data_written_bytes'] / (1024 ** 2) \n",
    "df_grouped5.reset_index(drop=True, inplace=True)\n",
    "last_non_zero_index = df_grouped5[df_grouped5.ne(0).any(axis=1)].index[-1]\n",
    "df_grouped5 = df_grouped5.loc[:last_non_zero_index]\n",
    "df_grouped5['latency'] =1 / df_grouped5['data_written_bytes']\n",
    "#\n",
    "#data_array = df_grouped['data_written_bytes'].values.reshape(-1, 1)\n",
    "print(df_grouped5.describe())\n",
    "print(df_grouped5.info())"
   ]
  },
  {
   "cell_type": "code",
   "execution_count": 29,
   "metadata": {},
   "outputs": [],
   "source": [
    "df_grouped2['time'] = pd.to_numeric(df_grouped2.index) \n",
    "df_grouped2['time'] = df_grouped2['time'] + (df_grouped1.index.max() + (60 * 60))\n",
    "df_grouped2['cumulative_gb'] = df_grouped2['cumulative_gb'] + df_grouped1.iloc[-1].cumulative_gb\n",
    "\n",
    "\n",
    "df_grouped3['time'] = pd.to_numeric(df_grouped3.index) \n",
    "df_grouped3['time'] = df_grouped3['time'] + (df_grouped2.index.max() + (60 * 60 * 6))\n",
    "df_grouped3['cumulative_gb'] = df_grouped3['cumulative_gb'] + df_grouped2.iloc[-1].cumulative_gb\n",
    "\n",
    "df_grouped5['time'] = pd.to_numeric(df_grouped5.index) \n",
    "df_grouped5['time'] = df_grouped5['time'] + (df_grouped3.index.max() + (60 * 60 * 10))\n",
    "df_grouped5['cumulative_gb'] = df_grouped5['cumulative_gb'] + df_grouped3.iloc[-1].cumulative_gb"
   ]
  },
  {
   "cell_type": "code",
   "execution_count": 33,
   "metadata": {},
   "outputs": [
    {
     "data": {
      "image/png": "[encoded data removed]",
      "text/plain": [
       "<Figure size 2000x200 with 4 Axes>"
      ]
     },
     "metadata": {},
     "output_type": "display_data"
    }
   ],
   "source": [
    "\n",
    "from matplotlib.patches import Rectangle\n",
    "import matplotlib.gridspec as gridspec\n",
    "import matplotlib.pyplot as plt\n",
    "\n",
    "# Create the main plot\n",
    "#fig, (ax1, ax2, ax3, ax4) = plt.subplots(1, 4, figsize=(16, 4), layout='constrained', sharey=True)\n",
    "# Create a figure and GridSpec\n",
    "fig = plt.figure(figsize=(20, 2))\n",
    "gs = gridspec.GridSpec(1, 7, width_ratios=[1, 0.02, 1, 0.2, 1, 0.3, 1], wspace=0.1)  # Adjust width_ratios and wspace as needed\n",
    "\n",
    "# Create subplots\n",
    "ax1 = plt.subplot(gs[0])\n",
    "ax2 = plt.subplot(gs[2])\n",
    "ax3 = plt.subplot(gs[4])\n",
    "ax4 = plt.subplot(gs[6])\n",
    "\n",
    "# Set labels for the primary x-axis and y-axis\n",
    "#ax1.set_xlabel(\"Cumulative GBs\")\n",
    "ax1.set_ylabel(\"Bandwidth(MB/sec)\", fontsize=14, weight=\"bold\")\n",
    "ax1.spines['right'].set_visible(False)\n",
    "ax1.tick_params(axis='x', labelsize=14)\n",
    "ax1.tick_params(axis='y', labelsize=14)\n",
    "\n",
    "# Optionally, remove the right y-ticks\n",
    "ax1.yaxis.set_ticks_position('left')  # Only show ticks on the left side\n",
    "ax1.spines['right'].set_visible(False)\n",
    "\n",
    "ax4.yaxis.set_ticks_position('right')  # Only show ticks on the right side\n",
    "ax4.spines['left'].set_visible(False)\n",
    "ax4.tick_params(axis='y', labelsize=14)\n",
    "\n",
    "for ax in [ax1, ax2, ax3, ax4]:\n",
    "    ax.set_ylim(0, 140)\n",
    "\n",
    "# Customize spines and ticks\n",
    "for ax in [ax2, ax3]:\n",
    "    # Hide all spines and ticks initially\n",
    "    ax.spines['left'].set_visible(False)\n",
    "    ax.spines['right'].set_visible(False)\n",
    "    ax.tick_params(axis='both', which='both', left=False, right=False, labelleft=False, labelright=False)\n",
    "\n",
    "\n",
    "# Map the ticks from the primary axis (cumulative_gbs) to the corresponding time values\n",
    "tick_locations = np.linspace(df_grouped1['cumulative_gb'].min(), df_grouped1['cumulative_gb'].max(), 2)  # Choose tick locations (e.g., 5 ticks)\n",
    "corresponding_time_values1 = np.interp(tick_locations, df_grouped1['cumulative_gb'], df_grouped1.index)  # Interpolate corresponding time values\n",
    "\n",
    "secax1 = ax1.secondary_xaxis('top')\n",
    "#Set the ticks and their labels on the secondary axis\n",
    "secax1.set_xticks(tick_locations)\n",
    "secax1.set_xticklabels([f\"{int(val)} s\" for val in corresponding_time_values1])  # Format as seconds\n",
    "df_grouped1['seconds'] = pd.to_numeric(df_grouped1.index)\n",
    "df_grouped2['seconds'] = pd.to_numeric(df_grouped2.index)\n",
    "maxindex = df_grouped1.iloc[-1].seconds + df_grouped2.iloc[-1].seconds\n",
    "secax1.set_xlim(0, maxindex)\n",
    "secax1.spines['top'].set_linestyle((0, (1, 1)))  # Dotted pattern (0, (1, 1))\n",
    "secax1.spines['top'].set_color('green')          # Set the color to green\n",
    "secax1.tick_params(axis='x', labelsize=14)     # Set the ticks color to green\n",
    "\n",
    "\n",
    " # Choose tick locations (e.g., 5 ticks)\n",
    "tick_locations = np.linspace(df_grouped2['cumulative_gb'].min(), df_grouped2['cumulative_gb'].max(), 2)\n",
    "corresponding_time_values1 = np.interp(tick_locations, df_grouped2['cumulative_gb'], df_grouped2.time)  # Interpolate corresponding time values\n",
    "secax2 = ax2.secondary_xaxis('top')\n",
    "# Set the ticks and \n",
    "secax2.spines['top'].set_linestyle((0, (1, 1)))  # Dotted pattern (0, (1, 1))\n",
    "secax2.spines['top'].set_color('green')          # Set the color to green\n",
    "secax2.tick_params(axis='x' , labelsize=14)     # Set the ticks color to greentheir labels on the secondary axis\n",
    "secax2.set_xticks(tick_locations)\n",
    "secax2.set_xticklabels([f\"{int(val)} s\" for val in corresponding_time_values1])  # Format as seconds\n",
    "\n",
    "tick_locations = np.linspace(df_grouped3['cumulative_gb'].min(), df_grouped3['cumulative_gb'].max(), 2)  # Choose tick locations (e.g., 5 ticks)\n",
    "corresponding_time_values1 = np.interp(tick_locations, df_grouped3['cumulative_gb'], df_grouped3.time)  # Interpolate corresponding time values\n",
    "secax3 = ax3.secondary_xaxis('top')\n",
    "# Set the ticks and \n",
    "secax3.spines['top'].set_linestyle((0, (1, 1)))  # Dotted pattern (0, (1, 1))\n",
    "secax3.spines['top'].set_color('green')          # Set the color to green\n",
    "secax3.tick_params(axis='x', labelsize=14)     # Set the ticks color to greentheir labels on the secondary axis\n",
    "secax3.set_xticks(tick_locations)\n",
    "secax3.set_xticklabels([f\"{int(val)} s\" for val in corresponding_time_values1])  # Format as seconds\n",
    "\n",
    "\n",
    "tick_locations = np.linspace(df_grouped5['cumulative_gb'].min(), df_grouped5['cumulative_gb'].max(), 2)  # Choose tick locations (e.g., 5 ticks)\n",
    "corresponding_time_values1 = np.interp(tick_locations, df_grouped5['cumulative_gb'], df_grouped5.time)  # Interpolate corresponding time values\n",
    "secax5 = ax4.secondary_xaxis('top')\n",
    "# Set the ticks and \n",
    "secax5.spines['top'].set_linestyle((0, (1, 1)))  # Dotted pattern (0, (1, 1))\n",
    "secax5.spines['top'].set_color('green')          # Set the color to green\n",
    "secax5.tick_params(axis='x', labelsize=14)     # Set the ticks color to greentheir labels on the secondary axis\n",
    "secax5.set_xticks(tick_locations)\n",
    "secax5.set_xticklabels([f\"{int(val)} s\" for val in corresponding_time_values1])  # Format as seconds\n",
    "\n",
    "ax2.tick_params(axis='x', labelsize=14)\n",
    "ax3.tick_params(axis='x', labelsize=14)\n",
    "ax4.tick_params(axis='x', labelsize=14)\n",
    "\n",
    "#secax2.sharex(secax1)\n",
    "ax1.plot(df_grouped1['cumulative_gb'], df_grouped1['data_written_bytes'], label=\"Run1\")\n",
    "#df_grouped2['cumulative_gb'] = df_grouped2['cumulative_gb'] + df_grouped1.iloc[-1].cumulative_gb\n",
    "ax2.plot(df_grouped2['cumulative_gb'], df_grouped2['data_written_bytes'], label=\"Run2\")\n",
    "ax3.plot(df_grouped3['cumulative_gb'], df_grouped3['data_written_bytes'], label=\"Run3\")\n",
    "ax4.plot(df_grouped5['cumulative_gb'], df_grouped5['data_written_bytes'], label=\"Run3\")\n",
    "\n",
    "# Add diagonal lines to indicate the break\n",
    "d = .015  # size of the diagonal lines\n",
    "kwargs = dict(transform=ax1.transAxes, color='k', clip_on=False)\n",
    "ax1.plot((1-d, 1+d), (-d, +d), **kwargs)\n",
    "ax1.plot((1-d, 1+d), (1-d, 1+d), **kwargs)\n",
    "\n",
    "\n",
    "kwargs.update(transform=ax2.transAxes)  # switch to the right axis\n",
    "ax2.plot((-d, +d), (-d, +d), **kwargs)\n",
    "ax2.plot((-d, +d), (1-d, 1+d), **kwargs)\n",
    "ax2.plot((1-d, 1+d), (1-d, 1+d), **kwargs)\n",
    "ax2.plot((1-d, 1+d), (-d, +d), **kwargs)\n",
    "\n",
    "kwargs.update(transform=ax3.transAxes)  # switch to the right axis\n",
    "ax3.plot((-d, +d), (-d, +d), **kwargs)\n",
    "ax3.plot((-d, +d), (1-d, 1+d), **kwargs)\n",
    "ax3.plot((1-d, 1+d), (1-d, 1+d), **kwargs)\n",
    "ax3.plot((1-d, 1+d), (-d, +d), **kwargs)\n",
    "\n",
    "kwargs.update(transform=ax4.transAxes)  # switch to the right axis\n",
    "ax4.plot((-d, +d), (-d, +d), **kwargs)\n",
    "ax4.plot((-d, +d), (1-d, 1+d), **kwargs)\n",
    "\n",
    "\n",
    "# Add a rectangle exactly between the diagonal lines\n",
    "mid_x = (ax1.get_position().x1 + ax2.get_position().x0) / 2  # Midpoint between the subplots\n",
    "rect1 = plt.Rectangle((mid_x-0.005, 0.09), 0.008, 0.8, transform=fig.transFigure, color=\"gray\", alpha=0.3)\n",
    "fig.patches.append(rect1)\n",
    "# Add text inside the rectangle\n",
    "fig.text(mid_x, 0.5, \"60 minutes pause\", ha=\"center\", va=\"center\", fontsize=12, color=\"black\", weight=\"bold\", rotation=90)\n",
    "\n",
    "\n",
    "mid_x = (ax2.get_position().x1 + ax3.get_position().x0) / 2  # Midpoint between the subplots\n",
    "rect2 = Rectangle((mid_x-0.012, 0.09), 0.03, 0.8, transform=fig.transFigure, color=\"gray\", alpha=0.3)\n",
    "fig.patches.append(rect2)\n",
    "# Add text inside the rectangle\n",
    "fig.text(mid_x, 0.5, \"6 hour pause\", ha=\"center\", va=\"center\", fontsize=12, color=\"black\", weight=\"bold\", rotation=90)\n",
    "\n",
    "\n",
    "mid_x = (ax3.get_position().x1 + ax4.get_position().x0) / 2  # Midpoint between the subplots\n",
    "rect3 = Rectangle((mid_x - 0.02, 0.09), 0.04, 0.8, transform=fig.transFigure, color=\"gray\", alpha=0.3)\n",
    "fig.patches.append(rect3)\n",
    "# Add text inside the rectangle\n",
    "fig.text(mid_x, 0.5, \"10 hour pause\", ha=\"center\", va=\"center\", fontsize=12, color=\"black\", weight=\"bold\", rotation=90)\n",
    "\n",
    "secax1.set_xlabel(\"Time (Seconds)\", labelpad=0, loc='center', fontsize=14, weight=\"bold\")\n",
    "#secax2.set_xlabel(\"Time (Seconds)\", labelpad=0, loc='center', fontsize=11)\n",
    "#secax3.set_xlabel(\"Time (Seconds)\", labelpad=0, loc='center', fontsize=11)\n",
    "secax5.set_xlabel(\"Time (Seconds)\", labelpad=0, loc='center', fontsize=14, weight=\"bold\")\n",
    "sns.set_context(\"notebook\", font_scale=1.2)\n",
    "sns.set_style(\"ticks\") \n",
    "sns.set_palette(\"muted\")\n",
    "sns.set_context(\"talk\")\n",
    "\n",
    "fig.supxlabel(\"Cumulative GBs\", fontsize=14, weight=\"bold\", y=-0.2)\n",
    "#plt.tight_layout(rect=[0, 0, 1, 0.3])  # Leave space for the suptitle\n",
    "#fig.suptitle(\"Asynchronous 1MB uniform random writes to DM-Hybrid with pauses to elucidate cache cleaning\", fontsize=14)\n",
    "plt.savefig(\"/home/surbhi/Downloads/cache-pause.pdf\", format=\"pdf\", bbox_inches='tight')# Add a rectangle exactly between the diagonal lines\n",
    "plt.show()\n"
   ]
  },
  {
   "cell_type": "markdown",
   "metadata": {},
   "source": []
  }
 ],
 "metadata": {
  "kernelspec": {
   "display_name": "Python 3",
   "language": "python",
   "name": "python3"
  },
  "language_info": {
   "codemirror_mode": {
    "name": "ipython",
    "version": 3
   },
   "file_extension": ".py",
   "mimetype": "text/x-python",
   "name": "python",
   "nbconvert_exporter": "python",
   "pygments_lexer": "ipython3",
   "version": "3.10.12"
  }
 },
 "nbformat": 4,
 "nbformat_minor": 2
}
