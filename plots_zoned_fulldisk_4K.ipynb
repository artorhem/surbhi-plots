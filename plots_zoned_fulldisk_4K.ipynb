{
 "cells": [
  {
   "cell_type": "code",
   "execution_count": 1,
   "metadata": {},
   "outputs": [],
   "source": [
    "import matplotlib.pyplot as plt\n",
    "import numpy as np\n",
    "import pandas as pd\n",
    "import math\n",
    "import seaborn as sns\n",
    "\n",
    "names_bw=['time', 'bw', 'op1', 'size', 'op2' ]\n",
    "names_latency=['op1', 'latency', 'op2', 'write_size', 'op3']"
   ]
  },
  {
   "cell_type": "markdown",
   "metadata": {},
   "source": [
    "## Zoned, Full disk with bs=4K\n",
    "### HM-LS : BW and Latency\n",
    "Await"
   ]
  },
  {
   "cell_type": "code",
   "execution_count": 6,
   "metadata": {},
   "outputs": [],
   "source": [
    "# df_latency = pd.read_csv(\"dcbwdkc\", sep=\",\", names=names_latency)\n",
    "\n",
    "# #process the bw data\n",
    "# df_latency['latency'] = df_latency['latency'] / 1000  # Convert nanoseconds to microseconds\n",
    "# # Calculate cumulative GBs of data written\n",
    "# df_latency['cumulative_gb'] = df_latency['write_size'].cumsum() / (1024**3)\n",
    "\n",
    "# #Create the line plots\n",
    "# # plt.plot(df1.index, df1['latency'], linestyle='-')\n",
    "# plt.plot(df_latency['cumulative_gb'], df_latency['latency'], linestyle='-')\n",
    "# # Add labels and title\n",
    "# plt.xlabel('Cumulative GBs Written', fontsize=12)\n",
    "# # plt.xticks(np.arange(0, 45, 5))\n",
    "# plt.ylabel('Latency (microseconds)', fontsize=12)\n",
    "# plt.yscale ('log')\n",
    "# # plt.yticks(np.arange(0, 25000, 2500))\n",
    "# plt.title('Latency of HMLS on 80:20 Zoned IO Pattern (Full Disk, bs=4KB)', fontsize=12)\n",
    "\n",
    "# # Show the plot\n",
    "# plt.grid(True)  # Optionally, add grid lines\n",
    "# plt.savefig('fig/final/log_yaxis/hmls_zoned_fulldisk_4kb_80_20_latency.png', dpi=300 ,bbox_inches='tight')\n",
    "# plt.show()"
   ]
  },
  {
   "cell_type": "code",
   "execution_count": 7,
   "metadata": {},
   "outputs": [],
   "source": [
    "# df_latency = pd.read_csv(\"dcbwdkc\", sep=\",\", names=names_latency)\n",
    "\n",
    "# #process the bw data\n",
    "# df_latency['latency'] = df_latency['latency'] / 1000  # Convert nanoseconds to microseconds\n",
    "# # Calculate cumulative GBs of data written\n",
    "# df_latency['cumulative_gb'] = df_latency['write_size'].cumsum() / (1024**3)\n",
    "\n",
    "# #Create the line plots\n",
    "# # plt.plot(df1.index, df1['latency'], linestyle='-')\n",
    "# plt.plot(df_latency['cumulative_gb'], df_latency['latency'], linestyle='-')\n",
    "# # Add labels and title\n",
    "# plt.xlabel('Cumulative GBs Written', fontsize=12)\n",
    "# # plt.xticks(np.arange(0, 45, 5))\n",
    "# plt.ylabel('Latency (microseconds)', fontsize=12)\n",
    "# # plt.yticks(np.arange(0, 25000, 2500))\n",
    "# plt.title('Latency of HMLS on 80:20 Zoned IO Pattern (Full Disk, bs=4KB)', fontsize=12)\n",
    "\n",
    "# # Show the plot\n",
    "# plt.grid(True)  # Optionally, add grid lines\n",
    "# plt.savefig('fig/final/hmls_zoned_fulldisk_4kb_80_20_latency.png', dpi=300 ,bbox_inches='tight')\n",
    "# plt.show()"
   ]
  },
  {
   "cell_type": "markdown",
   "metadata": {},
   "source": [
    "### HM-Hybrid: BW and Latency\n",
    "Await"
   ]
  },
  {
   "cell_type": "code",
   "execution_count": 8,
   "metadata": {},
   "outputs": [],
   "source": [
    "# df_latency = pd.read_csv(\"dm-zoned/zoned/fullDisk/qd1/bs4K/lat_log_lat.1.log\", sep=\",\", names=names_latency)\n",
    "\n",
    "# #process the bw data\n",
    "# df_latency['latency'] = df_latency['latency'] / 1000  # Convert nanoseconds to microseconds\n",
    "# # Calculate cumulative GBs of data written\n",
    "# df_latency['cumulative_gb'] = df_latency['write_size'].cumsum() / (1024**3)\n",
    "\n",
    "# #Create the line plots\n",
    "# # plt.plot(df1.index, df1['latency'], linestyle='-')\n",
    "# plt.plot(df_latency['cumulative_gb'], df_latency['latency'], linestyle='-')\n",
    "# # Add labels and title\n",
    "# plt.xlabel('Cumulative GBs Written', fontsize=12)\n",
    "# # plt.xticks(np.arange(0, 45, 5))\n",
    "# plt.ylabel('Latency (microseconds)',fontsize=12)\n",
    "# # plt.yticks(np.arange(0, 25000, 2500))\n",
    "# plt.title('Latency of HM-Hybrid on 80:20 Zoned IO Pattern (Full Disk, bs=4KB)',fontsize=12)\n",
    "\n",
    "# # Show the plot\n",
    "# plt.grid(True)  # Optionally, add grid lines\n",
    "# plt.savefig('fig/final/log_yaxis/hmhybrid_zoned_fulldisk_4kb_80_20_latency.png', dpi=300 ,bbox_inches='tight')\n",
    "# plt.show()"
   ]
  },
  {
   "cell_type": "code",
   "execution_count": 9,
   "metadata": {},
   "outputs": [],
   "source": [
    "# df_latency = pd.read_csv(\"dm-zoned/zoned/fullDisk/qd1/bs4K/lat_log_lat.1.log\", sep=\",\", names=names_latency)\n",
    "\n",
    "# #process the bw data\n",
    "# df_latency['latency'] = df_latency['latency'] / 1000  # Convert nanoseconds to microseconds\n",
    "# # Calculate cumulative GBs of data written\n",
    "# df_latency['cumulative_gb'] = df_latency['write_size'].cumsum() / (1024**3)\n",
    "\n",
    "# #Create the line plots\n",
    "# # plt.plot(df1.index, df1['latency'], linestyle='-')\n",
    "# plt.plot(df_latency['cumulative_gb'], df_latency['latency'], linestyle='-')\n",
    "# # Add labels and title\n",
    "# plt.xlabel('Cumulative GBs Written',fontsize=12)\n",
    "# # plt.xticks(np.arange(0, 45, 5))\n",
    "# plt.ylabel('Latency (microseconds)',fontsize=12)\n",
    "# # plt.yticks(np.arange(0, 25000, 2500))\n",
    "# plt.title('Latency of HM-Hybrid on 80:20 Zoned IO Pattern (Full Disk, bs=4KB)',fontsize=12)\n",
    "\n",
    "# # Show the plot\n",
    "# plt.grid(True)  # Optionally, add grid lines\n",
    "# plt.savefig('fig/final/hmhybrid_zoned_fulldisk_4kb_80_20_latency.png', dpi=300 ,bbox_inches='tight')\n",
    "# plt.show()"
   ]
  },
  {
   "cell_type": "markdown",
   "metadata": {},
   "source": [
    "### DM-Hybrid : BW and Latency\n",
    "Await"
   ]
  },
  {
   "cell_type": "code",
   "execution_count": 10,
   "metadata": {},
   "outputs": [],
   "source": [
    "# df_latency = pd.read_csv(\"STL/zoned/fullDisk/qd1/bs4KB/round1/lat_log_lat.1.log\", sep=\",\", names=names_latency)\n",
    "\n",
    "# #process the bw data\n",
    "# df_latency['latency'] = df_latency['latency'] / 1000  # Convert nanoseconds to microseconds\n",
    "# # Calculate cumulative GBs of data written\n",
    "# df_latency['cumulative_gb'] = df_latency['write_size'].cumsum() / (1024**3)\n",
    "\n",
    "# #Create the line plots\n",
    "# # plt.plot(df1.index, df1['latency'], linestyle='-')\n",
    "# plt.plot(df_latency['cumulative_gb'], df_latency['latency'], linestyle='-')\n",
    "# # Add labels and title\n",
    "# plt.xlabel('Cumulative GBs Written', fontsize=12)\n",
    "# # plt.xticks(np.arange(0, 45, 5))\n",
    "# plt.ylabel('Latency (microseconds)', fontsize=12)\n",
    "# # plt.yticks(np.arange(0, 25000, 2500))\n",
    "# plt.yscale ('log')\n",
    "# plt.title('Latency of HM-Hybrid on 80:20 Zoned IO Pattern (Full Disk, bs=4KB)', fontsize=12)\n",
    "\n",
    "# # Show the plot\n",
    "# plt.grid(True)  # Optionally, add grid lines\n",
    "# plt.savefig('fig/final/log_yaxis/hmhybrid_zoned_fulldisk_4kb_80_20_latency.png', dpi=300 ,bbox_inches='tight')\n",
    "# plt.show()"
   ]
  },
  {
   "cell_type": "code",
   "execution_count": 8,
   "metadata": {},
   "outputs": [
    {
     "data": {
      "image/png": "[encoded data removed]",
      "text/plain": [
       "<Figure size 640x480 with 1 Axes>"
      ]
     },
     "metadata": {},
     "output_type": "display_data"
    }
   ],
   "source": [
    "df_latency = pd.read_csv(\"STL/zoned/200GB/qd1/bs4k/round2/lat_log_lat.1.log\", sep=\",\", names=names_latency)\n",
    "\n",
    "#process the bw data\n",
    "df_latency['latency'] = df_latency['latency'] / (1000*1000)  # Convert nanoseconds to microseconds\n",
    "# Calculate cumulative GBs of data written\n",
    "df_latency['cumulative_gb'] = df_latency['write_size'].cumsum() / (1024**3)\n",
    "\n",
    "#Create the line plots\n",
    "# plt.plot(df1.index, df1['latency'], linestyle='-')\n",
    "plt.plot(df_latency['cumulative_gb'], df_latency['latency'], linestyle='-')\n",
    "# Add labels and title\n",
    "plt.xlabel('Cumulative GBs Written', fontsize=12)\n",
    "# plt.xticks(np.arange(0, 45, 5))\n",
    "# plt.yscale ('log')\n",
    "plt.ylabel('Latency (milliseconds)', fontsize=12)\n",
    "# plt.yticks(np.arange(0, 25000, 2500))\n",
    "plt.title('Latency of DM-HYbrid on Zoned IO Pattern (200GB, bs=4KB)', fontsize=12)\n",
    "\n",
    "# Show the plot\n",
    "plt.grid(True)  # Optionally, add grid lines\n",
    "# plt.savefig('fig/final/hmhybrid_zoned_fulldisk_4kb_80_20_latency.png', dpi=300 ,bbox_inches='tight')\n",
    "plt.show()"
   ]
  },
  {
   "cell_type": "code",
   "execution_count": 11,
   "metadata": {},
   "outputs": [],
   "source": [
    "# df_latency = pd.read_csv(\"STL/zoned/fullDisk/qd1/bs4KB/round1/lat_log_lat.1.log\", sep=\",\", names=names_latency)\n",
    "\n",
    "# #process the bw data\n",
    "# df_latency['latency'] = df_latency['latency'] / 1000  # Convert nanoseconds to microseconds\n",
    "# # Calculate cumulative GBs of data written\n",
    "# df_latency['cumulative_gb'] = df_latency['write_size'].cumsum() / (1024**3)\n",
    "\n",
    "# #Create the line plots\n",
    "# # plt.plot(df1.index, df1['latency'], linestyle='-')\n",
    "# plt.plot(df_latency['cumulative_gb'], df_latency['latency'], linestyle='-')\n",
    "# # Add labels and title\n",
    "# plt.xlabel('Cumulative GBs Written', fontsize=12)\n",
    "# # plt.xticks(np.arange(0, 45, 5))\n",
    "# plt.ylabel('Latency (microseconds)', fontsize=12)\n",
    "# # plt.yticks(np.arange(0, 25000, 2500))\n",
    "# plt.title('Latency of HM-Hybrid on 80:20 Zoned IO Pattern (Full Disk, bs=4KB)', fontsize=12)\n",
    "\n",
    "# # Show the plot\n",
    "# plt.grid(True)  # Optionally, add grid lines\n",
    "# plt.savefig('fig/final/hmhybrid_zoned_fulldisk_4kb_80_20_latency.png', dpi=300 ,bbox_inches='tight')\n",
    "# plt.show()"
   ]
  }
 ],
 "metadata": {
  "kernelspec": {
   "display_name": "Python 3",
   "language": "python",
   "name": "python3"
  },
  "language_info": {
   "codemirror_mode": {
    "name": "ipython",
    "version": 3
   },
   "file_extension": ".py",
   "mimetype": "text/x-python",
   "name": "python",
   "nbconvert_exporter": "python",
   "pygments_lexer": "ipython3",
   "version": "3.10.8"
  },
  "orig_nbformat": 4
 },
 "nbformat": 4,
 "nbformat_minor": 2
}
